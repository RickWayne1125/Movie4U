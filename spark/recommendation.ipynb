{
 "cells": [
  {
   "cell_type": "code",
   "execution_count": 2,
   "id": "5b13d218-1ad1-48fd-ace5-e498295a1e8e",
   "metadata": {
    "execution": {
     "iopub.execute_input": "2022-01-04T09:47:37.181674Z",
     "iopub.status.busy": "2022-01-04T09:47:37.181232Z",
     "iopub.status.idle": "2022-01-04T09:47:41.250208Z",
     "shell.execute_reply": "2022-01-04T09:47:41.249069Z",
     "shell.execute_reply.started": "2022-01-04T09:47:37.181634Z"
    },
    "tags": []
   },
   "outputs": [
    {
     "name": "stderr",
     "output_type": "stream",
     "text": [
      "WARNING: An illegal reflective access operation has occurred\n",
      "WARNING: Illegal reflective access by org.apache.spark.unsafe.Platform (file:/opt/spark/jars/spark-unsafe_2.12-3.2.0.jar) to constructor java.nio.DirectByteBuffer(long,int)\n",
      "WARNING: Please consider reporting this to the maintainers of org.apache.spark.unsafe.Platform\n",
      "WARNING: Use --illegal-access=warn to enable warnings of further illegal reflective access operations\n",
      "WARNING: All illegal access operations will be denied in a future release\n"
     ]
    },
    {
     "name": "stdout",
     "output_type": "stream",
     "text": [
      ":: loading settings :: url = jar:file:/opt/spark/jars/ivy-2.5.0.jar!/org/apache/ivy/core/settings/ivysettings.xml\n"
     ]
    },
    {
     "name": "stderr",
     "output_type": "stream",
     "text": [
      "Ivy Default Cache set to: /home/proxslick/.ivy2/cache\n",
      "The jars for the packages stored in: /home/proxslick/.ivy2/jars\n",
      "org.mongodb.spark#mongo-spark-connector_2.12 added as a dependency\n",
      ":: resolving dependencies :: org.apache.spark#spark-submit-parent-0017ca2f-ae10-4b03-be07-3c109ab9e811;1.0\n",
      "\tconfs: [default]\n",
      "\tfound org.mongodb.spark#mongo-spark-connector_2.12;3.0.1 in central\n",
      "\tfound org.mongodb#mongodb-driver-sync;4.0.5 in central\n",
      "\tfound org.mongodb#bson;4.0.5 in central\n",
      "\tfound org.mongodb#mongodb-driver-core;4.0.5 in central\n",
      ":: resolution report :: resolve 160ms :: artifacts dl 6ms\n",
      "\t:: modules in use:\n",
      "\torg.mongodb#bson;4.0.5 from central in [default]\n",
      "\torg.mongodb#mongodb-driver-core;4.0.5 from central in [default]\n",
      "\torg.mongodb#mongodb-driver-sync;4.0.5 from central in [default]\n",
      "\torg.mongodb.spark#mongo-spark-connector_2.12;3.0.1 from central in [default]\n",
      "\t---------------------------------------------------------------------\n",
      "\t|                  |            modules            ||   artifacts   |\n",
      "\t|       conf       | number| search|dwnlded|evicted|| number|dwnlded|\n",
      "\t---------------------------------------------------------------------\n",
      "\t|      default     |   4   |   0   |   0   |   0   ||   4   |   0   |\n",
      "\t---------------------------------------------------------------------\n",
      ":: retrieving :: org.apache.spark#spark-submit-parent-0017ca2f-ae10-4b03-be07-3c109ab9e811\n",
      "\tconfs: [default]\n",
      "\t0 artifacts copied, 4 already retrieved (0kB/5ms)\n",
      "22/01/04 03:47:38 WARN NativeCodeLoader: Unable to load native-hadoop library for your platform... using builtin-java classes where applicable\n",
      "Using Spark's default log4j profile: org/apache/spark/log4j-defaults.properties\n",
      "Setting default log level to \"WARN\".\n",
      "To adjust logging level use sc.setLogLevel(newLevel). For SparkR, use setLogLevel(newLevel).\n",
      "22/01/04 03:47:39 WARN Utils: Service 'SparkUI' could not bind on port 4040. Attempting port 4041.\n",
      "22/01/04 03:47:39 WARN Utils: Service 'SparkUI' could not bind on port 4041. Attempting port 4042.\n"
     ]
    }
   ],
   "source": [
    "thisUserId = 2\n",
    "\n",
    "\n",
    "import findspark\n",
    "findspark.init()\n",
    "\n",
    "from pyspark.sql import SparkSession\n",
    "\n",
    "spark = SparkSession \\\n",
    "    .builder \\\n",
    "    .appName(\"Movie4U\") \\\n",
    "    .config('spark.jars.packages', 'org.mongodb.spark:mongo-spark-connector_2.12:3.0.1') \\\n",
    "    .config(\"spark.mongodb.input.uri\", \"mongodb://127.0.0.1/MovieLens.similarities\") \\\n",
    "    .config(\"spark.mongodb.output.uri\", \"mongodb://127.0.0.1/MovieLens.similarities\") \\\n",
    "    .config(\"spark.executor.memory\", \"8g\") \\\n",
    "    .config(\"spark.driver.memory\", \"8g\") \\\n",
    "    .getOrCreate()"
   ]
  },
  {
   "cell_type": "code",
   "execution_count": 3,
   "id": "588a3779-79ba-4fa0-8e3f-1568a29cb0a6",
   "metadata": {
    "execution": {
     "iopub.execute_input": "2022-01-04T09:47:44.736245Z",
     "iopub.status.busy": "2022-01-04T09:47:44.735765Z",
     "iopub.status.idle": "2022-01-04T09:47:49.345678Z",
     "shell.execute_reply": "2022-01-04T09:47:49.344920Z",
     "shell.execute_reply.started": "2022-01-04T09:47:44.736192Z"
    },
    "tags": []
   },
   "outputs": [
    {
     "name": "stdout",
     "output_type": "stream",
     "text": [
      "+--------------------+---------+---------+------------------+\n",
      "|                 _id|movieId_1|movieId_2|             value|\n",
      "+--------------------+---------+---------+------------------+\n",
      "|{61d3e7a574bf563e...|      307|     3424|0.1625990335790132|\n",
      "|{61d3e7a574bf563e...|      307|     2134|0.0685758149545652|\n",
      "|{61d3e7a574bf563e...|      307|      273|0.1128387743400316|\n",
      "|{61d3e7a574bf563e...|      307|      288|0.1647382501186977|\n",
      "|{61d3e7a574bf563e...|      307|       32|0.1978401970135654|\n",
      "|{61d3e7a574bf563e...|      307|     2478|0.0681640217571773|\n",
      "|{61d3e7a574bf563e...|      307|     2840|0.0479856672762316|\n",
      "|{61d3e7a574bf563e...|      307|     3698| 0.066038399867317|\n",
      "|{61d3e7a574bf563e...|      307|     3020|0.1014547108625799|\n",
      "|{61d3e7a574bf563e...|      307|      208|0.0941508800193808|\n",
      "|{61d3e7a574bf563e...|      307|     3893|0.0996330636401165|\n",
      "|{61d3e7a574bf563e...|      307|      481|0.1377706460975944|\n",
      "|{61d3e7a574bf563e...|      307|     1257| 0.087457284837197|\n",
      "|{61d3e7a574bf563e...|      307|       10|0.1250238536931478|\n",
      "|{61d3e7a574bf563e...|      307|     1449|0.1254194804367616|\n",
      "|{61d3e7a574bf563e...|      307|      163|0.1203569966649717|\n",
      "|{61d3e7a574bf563e...|      307|      111|0.2241588714604797|\n",
      "|{61d3e7a574bf563e...|      307|      170|0.0717366808121729|\n",
      "|{61d3e7a574bf563e...|      307|       47|0.1886254505120749|\n",
      "|{61d3e7a574bf563e...|      307|      173|0.0550008902395345|\n",
      "+--------------------+---------+---------+------------------+\n",
      "only showing top 20 rows\n",
      "\n",
      "+--------------------+-------+------+----------+------+\n",
      "|                 _id|movieId|rating| timestamp|userId|\n",
      "+--------------------+-------+------+----------+------+\n",
      "|{61d3efde17f6bb06...|   1091|   1.5|1256677471|     1|\n",
      "|{61d3efde17f6bb06...|   1449|   4.5|1256677264|     1|\n",
      "|{61d3efde17f6bb06...|   1590|   2.5|1256677236|     1|\n",
      "|{61d3efde17f6bb06...|   1591|   1.5|1256677475|     1|\n",
      "|{61d3efde17f6bb06...|   1257|   4.5|1256677460|     1|\n",
      "|{61d3efde17f6bb06...|   2134|   4.5|1256677464|     1|\n",
      "|{61d3efde17f6bb06...|   2478|   4.0|1256677239|     1|\n",
      "|{61d3efde17f6bb06...|   2840|   3.0|1256677500|     1|\n",
      "|{61d3efde17f6bb06...|   3020|   4.0|1256677260|     1|\n",
      "|{61d3efde17f6bb06...|   2986|   2.5|1256677496|     1|\n",
      "|{61d3efde17f6bb06...|   3424|   4.5|1256677444|     1|\n",
      "|{61d3efde17f6bb06...|   3698|   3.5|1256677243|     1|\n",
      "|{61d3efde17f6bb06...|   3826|   2.0|1256677210|     1|\n",
      "|{61d3efde17f6bb06...|   3893|   3.5|1256677486|     1|\n",
      "|{61d3efde17f6bb06...|    170|   3.5|1192913581|     2|\n",
      "|{61d3efde17f6bb06...|    849|   3.5|1192913537|     2|\n",
      "|{61d3efde17f6bb06...|   1186|   3.5|1192913611|     2|\n",
      "|{61d3efde17f6bb06...|   1235|   3.0|1192913585|     2|\n",
      "|{61d3efde17f6bb06...|   1244|   3.0|1192913551|     2|\n",
      "|{61d3efde17f6bb06...|    307|   3.5|1256677221|     1|\n",
      "+--------------------+-------+------+----------+------+\n",
      "only showing top 20 rows\n",
      "\n"
     ]
    }
   ],
   "source": [
    "df = spark.read.format(\"mongo\").load()\n",
    "df.show()\n",
    "df = spark.read.format(\"mongo\").option(\"uri\", \"mongodb://127.0.0.1/MovieLens.ratings\").load()\n",
    "df.show()"
   ]
  },
  {
   "cell_type": "code",
   "execution_count": 19,
   "id": "2ef1869d-e360-48e0-a3bf-20371d27e5c6",
   "metadata": {
    "execution": {
     "iopub.execute_input": "2022-01-04T10:04:18.482979Z",
     "iopub.status.busy": "2022-01-04T10:04:18.482526Z",
     "iopub.status.idle": "2022-01-04T10:04:40.762060Z",
     "shell.execute_reply": "2022-01-04T10:04:40.761105Z",
     "shell.execute_reply.started": "2022-01-04T10:04:18.482927Z"
    },
    "tags": []
   },
   "outputs": [
    {
     "name": "stderr",
     "output_type": "stream",
     "text": [
      "[Stage 34:>                                                         (0 + 1) / 1]\r"
     ]
    },
    {
     "name": "stdout",
     "output_type": "stream",
     "text": [
      "+--------------------+-------+------+----------+------+\n",
      "|                 _id|movieId|rating| timestamp|userId|\n",
      "+--------------------+-------+------+----------+------+\n",
      "|{61d3efde17f6bb06...|    170|   3.5|1192913581|     2|\n",
      "|{61d3efde17f6bb06...|    849|   3.5|1192913537|     2|\n",
      "|{61d3efde17f6bb06...|   1186|   3.5|1192913611|     2|\n",
      "|{61d3efde17f6bb06...|   1235|   3.0|1192913585|     2|\n",
      "|{61d3efde17f6bb06...|   1244|   3.0|1192913551|     2|\n",
      "|{61d3efde17f6bb06...|   1296|   4.5|1192913608|     2|\n",
      "|{61d3efde17f6bb06...|   1663|   3.0|1192913565|     2|\n",
      "|{61d3efde17f6bb06...|   1962|   4.0|1192913533|     2|\n",
      "|{61d3efde17f6bb06...|   2108|   3.5|1192913541|     2|\n",
      "|{61d3efde17f6bb06...|   2243|   4.5|1192913604|     2|\n",
      "|{61d3efde17f6bb06...|   2352|   4.0|1192913575|     2|\n",
      "|{61d3efde17f6bb06...|   2707|   3.5|1192913600|     2|\n",
      "|{61d3efde17f6bb06...|   2746|   4.0|1192913548|     2|\n",
      "|{61d3efde17f6bb06...|   2915|   3.5|1192913562|     2|\n",
      "|{61d3efde17f6bb06...|   3363|   4.0|1192913596|     2|\n",
      "+--------------------+-------+------+----------+------+\n",
      "\n"
     ]
    },
    {
     "name": "stderr",
     "output_type": "stream",
     "text": [
      "                                                                                \r"
     ]
    }
   ],
   "source": [
    "tableSimilarities = spark.read.format(\"mongo\").load()\n",
    "tableRatings = spark.read.format(\"mongo\").option(\"uri\", \"mongodb://127.0.0.1/MovieLens.ratings\").load()\n",
    "userRatings = tableRatings.filter(tableRatings.userId == thisUserId)\n",
    "userRatings.show()"
   ]
  },
  {
   "cell_type": "code",
   "execution_count": 21,
   "id": "3d58c168-791e-4a86-ae77-1644e092d18d",
   "metadata": {
    "execution": {
     "iopub.execute_input": "2022-01-04T10:11:11.772931Z",
     "iopub.status.busy": "2022-01-04T10:11:11.772286Z",
     "iopub.status.idle": "2022-01-04T10:11:46.631850Z",
     "shell.execute_reply": "2022-01-04T10:11:46.630321Z",
     "shell.execute_reply.started": "2022-01-04T10:11:11.772856Z"
    },
    "tags": []
   },
   "outputs": [
    {
     "name": "stderr",
     "output_type": "stream",
     "text": [
      "                                                                                \r"
     ]
    },
    {
     "name": "stdout",
     "output_type": "stream",
     "text": [
      "+--------------------+-------+------+----------+------+--------------------+---------+---------+------------------+\n",
      "|                 _id|movieId|rating| timestamp|userId|                 _id|movieId_1|movieId_2|             value|\n",
      "+--------------------+-------+------+----------+------+--------------------+---------+---------+------------------+\n",
      "|{61d3efde17f6bb06...|   1296|   4.5|1192913608|     2|{61d3e7a774bf563e...|     1296|      170| 0.049263180104204|\n",
      "|{61d3efde17f6bb06...|   1296|   4.5|1192913608|     2|{61d3e7a774bf563e...|     1296|      849|0.0472721695592274|\n",
      "|{61d3efde17f6bb06...|   1296|   4.5|1192913608|     2|{61d3e7a774bf563e...|     1296|     1186|0.3110251399270678|\n",
      "|{61d3efde17f6bb06...|   1296|   4.5|1192913608|     2|{61d3e7a774bf563e...|     1296|     1235|0.2558560960208706|\n",
      "|{61d3efde17f6bb06...|   1296|   4.5|1192913608|     2|{61d3e7a774bf563e...|     1296|     1244| 0.284731283187942|\n",
      "|{61d3efde17f6bb06...|   1296|   4.5|1192913608|     2|{61d3e7a774bf563e...|     1296|     1663|0.1406616594232324|\n",
      "|{61d3efde17f6bb06...|   1296|   4.5|1192913608|     2|{61d3e7a774bf563e...|     1296|     1962|0.2539635259857829|\n",
      "|{61d3efde17f6bb06...|   1296|   4.5|1192913608|     2|{61d3e7a774bf563e...|     1296|     2108|0.2164238500205281|\n",
      "|{61d3efde17f6bb06...|   1296|   4.5|1192913608|     2|{61d3e7a774bf563e...|     1296|     2243|0.3118024708930354|\n",
      "|{61d3efde17f6bb06...|   1296|   4.5|1192913608|     2|{61d3e7a774bf563e...|     1296|     2352|0.2757543187403073|\n",
      "|{61d3efde17f6bb06...|   1296|   4.5|1192913608|     2|{61d3e7a774bf563e...|     1296|     2746|  0.15488525453679|\n",
      "|{61d3efde17f6bb06...|   1296|   4.5|1192913608|     2|{61d3e7a774bf563e...|     1296|     2707|0.0883090318059339|\n",
      "|{61d3efde17f6bb06...|   1296|   4.5|1192913608|     2|{61d3e7a774bf563e...|     1296|     3363|0.1824898077695053|\n",
      "|{61d3efde17f6bb06...|   1296|   4.5|1192913608|     2|{61d3e7a774bf563e...|     1296|     2915|0.1763021742391369|\n",
      "|{61d3efde17f6bb06...|   1296|   4.5|1192913608|     2|{61d3e7a774bf563e...|     1296|       10|  0.08428588518117|\n",
      "|{61d3efde17f6bb06...|   1296|   4.5|1192913608|     2|{61d3e7a774bf563e...|     1296|       17|0.2604077468674902|\n",
      "|{61d3efde17f6bb06...|   1296|   4.5|1192913608|     2|{61d3e7a774bf563e...|     1296|        1|0.1482485194957711|\n",
      "|{61d3efde17f6bb06...|   1296|   4.5|1192913608|     2|{61d3e7a774bf563e...|     1296|       47|  0.11017680656431|\n",
      "|{61d3efde17f6bb06...|   1296|   4.5|1192913608|     2|{61d3e7a774bf563e...|     1296|       50|0.1615189046636042|\n",
      "|{61d3efde17f6bb06...|   1296|   4.5|1192913608|     2|{61d3e7a774bf563e...|     1296|      247|0.2011396021179592|\n",
      "+--------------------+-------+------+----------+------+--------------------+---------+---------+------------------+\n",
      "only showing top 20 rows\n",
      "\n"
     ]
    }
   ],
   "source": [
    "userRatingsJoined = userRatings.join(tableSimilarities, tableSimilarities[\"movieId_1\"] == userRatings[\"movieId\"])\n",
    "userRatingsJoined.show()\n",
    "userRatingsInterests = userRatingsJoined.withColumn(\"interests\", (userRatings.movieId-3)*userRatingsJoined.value)"
   ]
  },
  {
   "cell_type": "code",
   "execution_count": 28,
   "id": "f7012ece-508c-4772-9316-8b45e0ebaea5",
   "metadata": {
    "execution": {
     "iopub.execute_input": "2022-01-04T10:18:40.178813Z",
     "iopub.status.busy": "2022-01-04T10:18:40.178369Z",
     "iopub.status.idle": "2022-01-04T10:19:21.815462Z",
     "shell.execute_reply": "2022-01-04T10:19:21.814485Z",
     "shell.execute_reply.started": "2022-01-04T10:18:40.178763Z"
    },
    "tags": []
   },
   "outputs": [
    {
     "name": "stdout",
     "output_type": "stream",
     "text": [
      "root\n",
      " |-- _id: struct (nullable = true)\n",
      " |    |-- oid: string (nullable = true)\n",
      " |-- movieId: integer (nullable = true)\n",
      " |-- rating: double (nullable = true)\n",
      " |-- timestamp: integer (nullable = true)\n",
      " |-- userId: integer (nullable = true)\n",
      " |-- _id: struct (nullable = true)\n",
      " |    |-- oid: string (nullable = true)\n",
      " |-- movieId_1: integer (nullable = true)\n",
      " |-- movieId_2: integer (nullable = true)\n",
      " |-- value: double (nullable = true)\n",
      " |-- interests: double (nullable = true)\n",
      "\n"
     ]
    },
    {
     "name": "stderr",
     "output_type": "stream",
     "text": [
      "                                                                                \r"
     ]
    }
   ],
   "source": [
    "userRatingsInterests.printSchema()\n",
    "results = userRatingsInterests.orderBy(userRatingsInterests.interests.desc())\n",
    "results.write.format(\"mongo\").mode(\"append\").option(\"database\", \"MovieLens\").option(\"collection\", \"interests\").save()"
   ]
  },
  {
   "cell_type": "code",
   "execution_count": null,
   "id": "4084cc9e-099f-404b-b699-02c56aa79a89",
   "metadata": {},
   "outputs": [],
   "source": []
  },
  {
   "cell_type": "code",
   "execution_count": 6,
   "id": "1bfbf9db-97cc-42b6-b263-f92fc56092a1",
   "metadata": {
    "execution": {
     "iopub.execute_input": "2022-01-04T09:26:38.115017Z",
     "iopub.status.busy": "2022-01-04T09:26:38.114508Z",
     "iopub.status.idle": "2022-01-04T09:26:38.127014Z",
     "shell.execute_reply": "2022-01-04T09:26:38.125970Z",
     "shell.execute_reply.started": "2022-01-04T09:26:38.114969Z"
    }
   },
   "outputs": [],
   "source": []
  },
  {
   "cell_type": "code",
   "execution_count": 7,
   "id": "05c4e8b6-33a9-4f53-a6be-4184860e0fe0",
   "metadata": {
    "execution": {
     "iopub.execute_input": "2022-01-04T09:26:58.089257Z",
     "iopub.status.busy": "2022-01-04T09:26:58.088860Z",
     "iopub.status.idle": "2022-01-04T09:26:58.682109Z",
     "shell.execute_reply": "2022-01-04T09:26:58.681048Z",
     "shell.execute_reply.started": "2022-01-04T09:26:58.089226Z"
    }
   },
   "outputs": [
    {
     "ename": "AttributeError",
     "evalue": "'DataFrame' object has no attribute 'find'",
     "output_type": "error",
     "traceback": [
      "\u001b[0;31m---------------------------------------------------------------------------\u001b[0m",
      "\u001b[0;31mAttributeError\u001b[0m                            Traceback (most recent call last)",
      "\u001b[0;32m/tmp/ipykernel_1015180/737074795.py\u001b[0m in \u001b[0;36m<module>\u001b[0;34m\u001b[0m\n\u001b[0;32m----> 1\u001b[0;31m \u001b[0mrecommendationForUser\u001b[0m\u001b[0;34m(\u001b[0m\u001b[0;36m1\u001b[0m\u001b[0;34m)\u001b[0m\u001b[0;34m\u001b[0m\u001b[0;34m\u001b[0m\u001b[0m\n\u001b[0m",
      "\u001b[0;32m/tmp/ipykernel_1015180/4108533653.py\u001b[0m in \u001b[0;36mrecommendationForUser\u001b[0;34m(thisUserId)\u001b[0m\n\u001b[1;32m      3\u001b[0m     \u001b[0mtableRatings\u001b[0m \u001b[0;34m=\u001b[0m \u001b[0mspark\u001b[0m\u001b[0;34m.\u001b[0m\u001b[0mread\u001b[0m\u001b[0;34m.\u001b[0m\u001b[0mformat\u001b[0m\u001b[0;34m(\u001b[0m\u001b[0;34m\"mongo\"\u001b[0m\u001b[0;34m)\u001b[0m\u001b[0;34m.\u001b[0m\u001b[0moption\u001b[0m\u001b[0;34m(\u001b[0m\u001b[0;34m\"uri\"\u001b[0m\u001b[0;34m,\u001b[0m \u001b[0;34m\"mongodb://127.0.0.1/MovieLens.ratings\"\u001b[0m\u001b[0;34m)\u001b[0m\u001b[0;34m.\u001b[0m\u001b[0mload\u001b[0m\u001b[0;34m(\u001b[0m\u001b[0;34m)\u001b[0m\u001b[0;34m\u001b[0m\u001b[0;34m\u001b[0m\u001b[0m\n\u001b[1;32m      4\u001b[0m     \u001b[0muserRatings\u001b[0m \u001b[0;34m=\u001b[0m \u001b[0mdict\u001b[0m\u001b[0;34m(\u001b[0m\u001b[0;34m)\u001b[0m\u001b[0;34m\u001b[0m\u001b[0;34m\u001b[0m\u001b[0m\n\u001b[0;32m----> 5\u001b[0;31m     \u001b[0;32mfor\u001b[0m \u001b[0mrecordRating\u001b[0m \u001b[0;32min\u001b[0m \u001b[0mtableRatings\u001b[0m\u001b[0;34m.\u001b[0m\u001b[0mfind\u001b[0m\u001b[0;34m(\u001b[0m\u001b[0;34m{\u001b[0m\u001b[0;34m'userId'\u001b[0m\u001b[0;34m:\u001b[0m \u001b[0mthisUserId\u001b[0m\u001b[0;34m}\u001b[0m\u001b[0;34m)\u001b[0m\u001b[0;34m:\u001b[0m\u001b[0;34m\u001b[0m\u001b[0;34m\u001b[0m\u001b[0m\n\u001b[0m\u001b[1;32m      6\u001b[0m         \u001b[0muserRatings\u001b[0m\u001b[0;34m[\u001b[0m\u001b[0mrecordRating\u001b[0m\u001b[0;34m[\u001b[0m\u001b[0;34m'movieId'\u001b[0m\u001b[0;34m]\u001b[0m\u001b[0;34m]\u001b[0m \u001b[0;34m=\u001b[0m \u001b[0mrecordRating\u001b[0m\u001b[0;34m[\u001b[0m\u001b[0;34m'rating'\u001b[0m\u001b[0;34m]\u001b[0m\u001b[0;34m\u001b[0m\u001b[0;34m\u001b[0m\u001b[0m\n\u001b[1;32m      7\u001b[0m     \u001b[0minterests\u001b[0m \u001b[0;34m=\u001b[0m \u001b[0mdict\u001b[0m\u001b[0;34m(\u001b[0m\u001b[0;34m)\u001b[0m\u001b[0;34m\u001b[0m\u001b[0;34m\u001b[0m\u001b[0m\n",
      "\u001b[0;32m/opt/spark/python/pyspark/sql/dataframe.py\u001b[0m in \u001b[0;36m__getattr__\u001b[0;34m(self, name)\u001b[0m\n\u001b[1;32m   1657\u001b[0m         \"\"\"\n\u001b[1;32m   1658\u001b[0m         \u001b[0;32mif\u001b[0m \u001b[0mname\u001b[0m \u001b[0;32mnot\u001b[0m \u001b[0;32min\u001b[0m \u001b[0mself\u001b[0m\u001b[0;34m.\u001b[0m\u001b[0mcolumns\u001b[0m\u001b[0;34m:\u001b[0m\u001b[0;34m\u001b[0m\u001b[0;34m\u001b[0m\u001b[0m\n\u001b[0;32m-> 1659\u001b[0;31m             raise AttributeError(\n\u001b[0m\u001b[1;32m   1660\u001b[0m                 \"'%s' object has no attribute '%s'\" % (self.__class__.__name__, name))\n\u001b[1;32m   1661\u001b[0m         \u001b[0mjc\u001b[0m \u001b[0;34m=\u001b[0m \u001b[0mself\u001b[0m\u001b[0;34m.\u001b[0m\u001b[0m_jdf\u001b[0m\u001b[0;34m.\u001b[0m\u001b[0mapply\u001b[0m\u001b[0;34m(\u001b[0m\u001b[0mname\u001b[0m\u001b[0;34m)\u001b[0m\u001b[0;34m\u001b[0m\u001b[0;34m\u001b[0m\u001b[0m\n",
      "\u001b[0;31mAttributeError\u001b[0m: 'DataFrame' object has no attribute 'find'"
     ]
    }
   ],
   "source": []
  },
  {
   "cell_type": "code",
   "execution_count": null,
   "id": "8aa99d23-3cd7-4de7-a5c1-2636d47f06d2",
   "metadata": {},
   "outputs": [],
   "source": []
  }
 ],
 "metadata": {
  "kernelspec": {
   "display_name": "Python 3 (ipykernel)",
   "language": "python",
   "name": "python3"
  },
  "language_info": {
   "codemirror_mode": {
    "name": "ipython",
    "version": 3
   },
   "file_extension": ".py",
   "mimetype": "text/x-python",
   "name": "python",
   "nbconvert_exporter": "python",
   "pygments_lexer": "ipython3",
   "version": "3.9.2"
  }
 },
 "nbformat": 4,
 "nbformat_minor": 5
}
